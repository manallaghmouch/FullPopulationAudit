{
 "cells": [
  {
   "cell_type": "markdown",
   "metadata": {},
   "source": [
    "0 Model generation"
   ]
  },
  {
   "cell_type": "code",
   "execution_count": 1,
   "metadata": {},
   "outputs": [],
   "source": [
    "import os"
   ]
  },
  {
   "cell_type": "code",
   "execution_count": 3,
   "metadata": {},
   "outputs": [],
   "source": [
    "def copy_activities_to_files(source_file, target_files):\n",
    "    # Read the source file\n",
    "    with open(source_file, 'r') as file:\n",
    "        lines = file.readlines()\n",
    "\n",
    "    # Extract lines that start with 'activity'\n",
    "    activity_lines = [line for line in lines if line.startswith('activity')]\n",
    "\n",
    "    # Loop over each target file and prepend the activity lines\n",
    "    for target_file in target_files:\n",
    "        with open(target_file, 'r') as file:\n",
    "            target_lines = file.readlines()\n",
    "\n",
    "        # Combine activity lines with the content of the target file\n",
    "        new_lines = activity_lines + target_lines\n",
    "\n",
    "        # Write the combined lines back to the target file\n",
    "        with open(target_file, 'w') as file:\n",
    "            file.writelines(new_lines)\n"
   ]
  },
  {
   "cell_type": "code",
   "execution_count": 6,
   "metadata": {},
   "outputs": [],
   "source": [
    "# Loop through each model set\n",
    "for i in range(31, 501):  \n",
    "    source_file = f'model{i}_1.decl'\n",
    "    target_files = [f'model{i}_2.decl', f'model{i}_3.decl']\n",
    "    \n",
    "    # Check if source file exists to avoid errors\n",
    "    if os.path.exists(source_file):\n",
    "        # Copy activity lines to target files\n",
    "        copy_activities_to_files(source_file, target_files)\n",
    "    else:\n",
    "        print(f\"Source file {source_file} does not exist. Skipping set {i}.\")"
   ]
  }
 ],
 "metadata": {
  "kernelspec": {
   "display_name": "Python 3",
   "language": "python",
   "name": "python3"
  },
  "language_info": {
   "codemirror_mode": {
    "name": "ipython",
    "version": 3
   },
   "file_extension": ".py",
   "mimetype": "text/x-python",
   "name": "python",
   "nbconvert_exporter": "python",
   "pygments_lexer": "ipython3",
   "version": "3.11.9"
  }
 },
 "nbformat": 4,
 "nbformat_minor": 2
}
